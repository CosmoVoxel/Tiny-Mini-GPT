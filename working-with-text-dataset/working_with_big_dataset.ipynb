{
 "cells": [
  {
   "cell_type": "code",
   "execution_count": null,
   "metadata": {},
   "outputs": [],
   "source": [
    "from datasets import load_dataset, load_from_disk\n",
    "import torch\n",
    "import numpy as np"
   ]
  },
  {
   "cell_type": "code",
   "execution_count": null,
   "metadata": {},
   "outputs": [],
   "source": [
    "dataset = load_from_disk(\"./fine-web-edu-1T\",)\n",
    "dataset"
   ]
  },
  {
   "cell_type": "code",
   "execution_count": null,
   "metadata": {},
   "outputs": [],
   "source": [
    "dataset = dataset.remove_columns(['id', 'dump', 'url', 'file_path', 'language', 'language_score', 'token_count', 'score', 'int_score'])"
   ]
  },
  {
   "cell_type": "code",
   "execution_count": 2,
   "metadata": {},
   "outputs": [
    {
     "name": "stdout",
     "output_type": "stream",
     "text": [
      "Encoding name: r50k_base\n",
      "Vocab size: 50257\n"
     ]
    }
   ],
   "source": [
    "from model import DecoderConfig\n",
    "\n",
    "config = DecoderConfig()\n",
    "tokenizer = config.tokenizer\n",
    "\n",
    "\n",
    "print(\"Encoding name:\",config.encoding_name)\n",
    "print(\"Vocab size:\",tokenizer.n_vocab)\n",
    "\n",
    "def tokenize_text(text:str):\n",
    "    tokenized_text = tokenizer.encode(text,disallowed_special=())\n",
    "    return {\"tokenized_text\":torch.tensor(tokenized_text,dtype=torch.uint16),'token_count':len(tokenized_text)}"
   ]
  },
  {
   "cell_type": "code",
   "execution_count": null,
   "metadata": {},
   "outputs": [],
   "source": [
    "tokenized_dataset = dataset.map(tokenize_text,input_columns=['text'],num_proc=9,)"
   ]
  },
  {
   "cell_type": "code",
   "execution_count": null,
   "metadata": {},
   "outputs": [],
   "source": [
    "tokenized_dataset = tokenized_dataset.remove_columns(['text'])"
   ]
  },
  {
   "cell_type": "code",
   "execution_count": null,
   "metadata": {},
   "outputs": [],
   "source": [
    "tokenized_dataset.save_to_disk('./fine-web-edu-1T-tokenized',num_shards=100)"
   ]
  },
  {
   "cell_type": "code",
   "execution_count": 3,
   "metadata": {},
   "outputs": [],
   "source": [
    "data = load_from_disk(\"./fine-web-edu-1T-tokenized\")"
   ]
  },
  {
   "cell_type": "code",
   "execution_count": null,
   "metadata": {},
   "outputs": [],
   "source": [
    "for i,text in enumerate(data):\n",
    "    if i == 10:\n",
    "        break\n",
    "    print(config.tokenizer.decode(text['tokenized_text']))"
   ]
  }
 ],
 "metadata": {
  "kernelspec": {
   "display_name": "Python 3",
   "language": "python",
   "name": "python3"
  },
  "language_info": {
   "codemirror_mode": {
    "name": "ipython",
    "version": 3
   },
   "file_extension": ".py",
   "mimetype": "text/x-python",
   "name": "python",
   "nbconvert_exporter": "python",
   "pygments_lexer": "ipython3",
   "version": "3.12.4"
  }
 },
 "nbformat": 4,
 "nbformat_minor": 2
}
