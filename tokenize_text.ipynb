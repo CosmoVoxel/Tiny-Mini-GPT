{
 "cells": [
  {
   "cell_type": "code",
   "execution_count": 2,
   "metadata": {},
   "outputs": [
    {
     "name": "stderr",
     "output_type": "stream",
     "text": [
      "/home/lvip/Desktop/GPTV3/.conda/lib/python3.11/site-packages/tqdm/auto.py:21: TqdmWarning: IProgress not found. Please update jupyter and ipywidgets. See https://ipywidgets.readthedocs.io/en/stable/user_install.html\n",
      "  from .autonotebook import tqdm as notebook_tqdm\n"
     ]
    }
   ],
   "source": [
    "import tiktoken\n",
    "from multiprocessing import Pool\n",
    "from tqdm.contrib.concurrent import process_map\n",
    "import numpy as np\n",
    "from config import DecoderConfig"
   ]
  },
  {
   "cell_type": "code",
   "execution_count": 5,
   "metadata": {},
   "outputs": [],
   "source": [
    "config = DecoderConfig()"
   ]
  },
  {
   "cell_type": "code",
   "execution_count": null,
   "metadata": {},
   "outputs": [],
   "source": [
    "print(config.encoding_name)"
   ]
  },
  {
   "cell_type": "code",
   "execution_count": null,
   "metadata": {},
   "outputs": [],
   "source": [
    "def tokenize_line(line):\n",
    "    tokens = tiktoken.get_encoding(config.encoding_name).encode(line)\n",
    "    # if len(tokens) < 30:\n",
    "    #     return []\n",
    "    return tokens"
   ]
  },
  {
   "cell_type": "code",
   "execution_count": null,
   "metadata": {},
   "outputs": [],
   "source": [
    "import tqdm\n",
    "\n",
    "\n",
    "def process_file(file_path):\n",
    "    with open(file_path, \"r\", encoding=\"utf-8-sig\") as file:\n",
    "        #lines = file.read().replace(u'\\xa0', u' ').splitlines()\n",
    "        lines = file.read().replace('\\xa0', u' ').splitlines(True)\n",
    "    \n",
    "    # Use process_map to tokenize lines in parallel\n",
    "    p = Pool(4)\n",
    "    tokenized_lines = list(tqdm.tqdm(p.imap(tokenize_line, lines,chunksize = 1024),total=len(lines)))\n",
    "    # Convert the list of tokenized lines to a numpy array\n",
    "    tokenized_array = np.array(tokenized_lines,dtype=object)\n",
    "    \n",
    "    return tokenized_array\n",
    "\n",
    "def save_tokenized_array(array, output_path):\n",
    "    # Save the numpy array to a file\n",
    "    np.save(output_path, array)"
   ]
  },
  {
   "cell_type": "code",
   "execution_count": null,
   "metadata": {},
   "outputs": [],
   "source": [
    "if __name__ == '__main__':\n",
    "    input_file_path = \"/home/lvip/Downloads/books/Межавторский цикл Сталкер(сборники)/all_russian_books.txt\"  # Path to your input text file\n",
    "    output_file_path = \"all_russian_books.npy\"  # Path to save the tokenized numpy array\n",
    "\n",
    "    tokenized_array = process_file(input_file_path)\n",
    "    save_tokenized_array(tokenized_array, output_file_path)"
   ]
  },
  {
   "cell_type": "code",
   "execution_count": null,
   "metadata": {},
   "outputs": [],
   "source": [
    "with open(\"/home/lvip/Downloads/books/Межавторский цикл Сталкер(сборники)/all_russian_books.txt\", \"r\", encoding=\"utf-8-sig\") as file:\n",
    "        #lines = file.read().replace(u'\\xa0', u' ').splitlines()\n",
    "        lines= file.read().replace('\\xa0', u' ').splitlines(True)"
   ]
  },
  {
   "cell_type": "code",
   "execution_count": null,
   "metadata": {},
   "outputs": [],
   "source": [
    "lines[0:100]"
   ]
  },
  {
   "cell_type": "code",
   "execution_count": 3,
   "metadata": {},
   "outputs": [],
   "source": [
    "tokens = np.load('all_russian_books.npy',allow_pickle=True)"
   ]
  },
  {
   "cell_type": "code",
   "execution_count": 15,
   "metadata": {},
   "outputs": [
    {
     "data": {
      "text/plain": [
       "86309959"
      ]
     },
     "execution_count": 15,
     "metadata": {},
     "output_type": "execute_result"
    }
   ],
   "source": [
    "np.concatenate(tokens).size"
   ]
  },
  {
   "cell_type": "code",
   "execution_count": null,
   "metadata": {},
   "outputs": [],
   "source": [
    "config.tokenizer.decode_batch(tokens[0:100])"
   ]
  }
 ],
 "metadata": {
  "kernelspec": {
   "display_name": "Python 3",
   "language": "python",
   "name": "python3"
  },
  "language_info": {
   "codemirror_mode": {
    "name": "ipython",
    "version": 3
   },
   "file_extension": ".py",
   "mimetype": "text/x-python",
   "name": "python",
   "nbconvert_exporter": "python",
   "pygments_lexer": "ipython3",
   "version": "3.10.14"
  }
 },
 "nbformat": 4,
 "nbformat_minor": 2
}
